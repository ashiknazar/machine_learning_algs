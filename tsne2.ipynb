{
 "cells": [
  {
   "cell_type": "markdown",
   "metadata": {},
   "source": []
  },
  {
   "cell_type": "markdown",
   "metadata": {},
   "source": []
  },
  {
   "cell_type": "markdown",
   "metadata": {},
   "source": [
    "- determine similarity of all the points in scatter plot\n",
    "![](images/a.png) \n",
    "![](images/b.png) \n",
    "![](images/c.png) "
   ]
  },
  {
   "cell_type": "markdown",
   "metadata": {},
   "source": [
    "- measure distance between all points and plot on normal curve \n",
    "- measure the distance from curve to get unscaled similarity\n",
    "- scale unscaled similarity\n",
    "- width of curve depends on density of data ,(less dense ->wider curve)\n",
    "- if dense -> narrow ,if not that dense ->wide. scaling similarity will make them same for both curve\n",
    "\n"
   ]
  },
  {
   "cell_type": "markdown",
   "metadata": {},
   "source": [
    "- calculate similarity score for all points\n",
    "- similarity score of a to b may not be the same as b to a (because depends on densit of points)\n",
    "- tsne averages similarity score from two directions\n",
    "-\n",
    "- endup with a matrix of similarity scores\n",
    "![](images/t.png)\n",
    "![](images/u.png)\n",
    "![](images/v.png)\n",
    "![](images/w.png)\n"
   ]
  },
  {
   "cell_type": "markdown",
   "metadata": {},
   "source": [
    "___\n",
    "![](images/2d_to_1d.png)"
   ]
  },
  {
   "cell_type": "markdown",
   "metadata": {},
   "source": [
    "\n",
    "- if we project it to x or y it become messed\n",
    "- place points on number line on random order\n",
    "- move points until clustered good\n",
    "- similar points are atracted and dissimilar points are seperated\n"
   ]
  },
  {
   "cell_type": "markdown",
   "metadata": {},
   "source": [
    "- 1. randomly project to a line\n",
    "- 2. calculate similarity score for points on the number line\n",
    "![](images/z.png)"
   ]
  },
  {
   "cell_type": "markdown",
   "metadata": {},
   "source": []
  }
 ],
 "metadata": {
  "language_info": {
   "name": "python"
  }
 },
 "nbformat": 4,
 "nbformat_minor": 2
}
