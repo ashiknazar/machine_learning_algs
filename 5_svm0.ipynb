{
 "cells": [
  {
   "cell_type": "markdown",
   "id": "269b6db5",
   "metadata": {},
   "source": [
    "- “Pick the line that keeps the maximum distance from both classes.”\n",
    "- This distance between the line and the closest points is called the margin.\n",
    "\n",
    "- So SVM = “find the line (or hyperplane) with the biggest margin.”"
   ]
  },
  {
   "cell_type": "markdown",
   "id": "d75a501b",
   "metadata": {},
   "source": [
    "___"
   ]
  },
  {
   "cell_type": "markdown",
   "id": "7d636e0a",
   "metadata": {},
   "source": []
  },
  {
   "cell_type": "code",
   "execution_count": 1,
   "id": "696f262d",
   "metadata": {},
   "outputs": [
    {
     "name": "stdout",
     "output_type": "stream",
     "text": [
      "Support Vectors:\n",
      " [[6. 5.]\n",
      " [3. 3.]]\n",
      "Indices of Support Vectors: [3 2]\n",
      "Coefficients (w): [[-0.46153846 -0.30769231]]\n",
      "Intercept (b): [3.30769231]\n"
     ]
    }
   ],
   "source": [
    "import numpy as np\n",
    "import matplotlib.pyplot as plt\n",
    "from sklearn.svm import SVC\n",
    "\n",
    "# Simple 2D data\n",
    "X = np.array([\n",
    "    [1, 2], [2, 3], [3, 3],   # Class +1\n",
    "    [6, 5], [7, 8], [8, 6]    # Class -1\n",
    "])\n",
    "y = np.array([1, 1, 1, -1, -1, -1])\n",
    "\n",
    "# Train SVM (linear)\n",
    "clf = SVC(kernel='linear', C=1)\n",
    "clf.fit(X, y)\n",
    "\n",
    "# Get support vectors\n",
    "print(\"Support Vectors:\\n\", clf.support_vectors_)\n",
    "print(\"Indices of Support Vectors:\", clf.support_)\n",
    "print(\"Coefficients (w):\", clf.coef_)\n",
    "print(\"Intercept (b):\", clf.intercept_)\n"
   ]
  },
  {
   "cell_type": "code",
   "execution_count": null,
   "id": "7b0d0c28",
   "metadata": {},
   "outputs": [],
   "source": []
  },
  {
   "cell_type": "code",
   "execution_count": null,
   "id": "8a9083cc",
   "metadata": {},
   "outputs": [],
   "source": []
  }
 ],
 "metadata": {
  "kernelspec": {
   "display_name": "mlenv (3.10.13)",
   "language": "python",
   "name": "python3"
  },
  "language_info": {
   "codemirror_mode": {
    "name": "ipython",
    "version": 3
   },
   "file_extension": ".py",
   "mimetype": "text/x-python",
   "name": "python",
   "nbconvert_exporter": "python",
   "pygments_lexer": "ipython3",
   "version": "3.10.13"
  }
 },
 "nbformat": 4,
 "nbformat_minor": 5
}
