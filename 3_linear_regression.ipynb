{
 "cells": [
  {
   "cell_type": "markdown",
   "metadata": {},
   "source": [
    "- When you call ``model.fit(X, y)`` on a LinearRegression model from scikit-learn, the following steps occur:"
   ]
  },
  {
   "cell_type": "markdown",
   "metadata": {},
   "source": [
    "1. Input Validation:\n",
    "    - The input data X ``(features)`` and y ``(target)`` are checked for validity. This includes verifying that X is a 2D array (or matrix) of shape ``(n_samples, n_features)`` and that y is a 1D array (or vector) of shape ``(n_samples,)``."
   ]
  },
  {
   "cell_type": "markdown",
   "metadata": {},
   "source": [
    "2. Compute the Coefficients (Beta values):\n",
    "    - The model computes the coefficients (denoted as w) that define the linear relationship between the input features and the target variable. Specifically, it finds the optimal values of the slope (weights) for the features that minimize the residual sum of squares (RSS) between the observed target values (y) and the values predicted by the model."
   ]
  },
  {
   "cell_type": "markdown",
   "metadata": {},
   "source": [
    "3. Solve for Coefficients:\n",
    "    - The LinearRegression class uses the Ordinary Least Squares (OLS) method to find the optimal coefficients."
   ]
  },
  {
   "cell_type": "markdown",
   "metadata": {},
   "source": [
    "4. Fit Intercept (Optional):\n",
    "      - If the fit_intercept=True parameter is set (which is the default), the algorithm also computes the intercept (b) that minimizes the cost function. This is done by adding a column of ones to the input matrix X so that the model can learn the intercept alongside the coefficients.\n"
   ]
  },
  {
   "cell_type": "markdown",
   "metadata": {},
   "source": [
    "5. Store Model Parameters:\n",
    "6. Model Ready for Prediction:"
   ]
  },
  {
   "cell_type": "markdown",
   "metadata": {},
   "source": []
  }
 ],
 "metadata": {
  "language_info": {
   "name": "python"
  }
 },
 "nbformat": 4,
 "nbformat_minor": 2
}
