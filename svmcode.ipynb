{
 "cells": [
  {
   "cell_type": "code",
   "execution_count": 1,
   "metadata": {},
   "outputs": [],
   "source": [
    "# Import necessary libraries\n",
    "import numpy as np\n",
    "import matplotlib.pyplot as plt\n",
    "from sklearn.svm import SVR, SVC\n",
    "from sklearn.datasets import make_regression, make_classification\n",
    "from sklearn.model_selection import train_test_split\n",
    "from sklearn.metrics import mean_squared_error, accuracy_score"
   ]
  },
  {
   "cell_type": "code",
   "execution_count": 2,
   "metadata": {},
   "outputs": [],
   "source": [
    "# ------------------- SVM Regression -------------------\n",
    "# Generate a sample regression dataset\n",
    "X_reg, y_reg = make_regression(n_samples=100, n_features=1, noise=10, random_state=42)\n",
    "\n",
    "# Split the data into training and testing sets\n",
    "X_reg_train, X_reg_test, y_reg_train, y_reg_test = train_test_split(X_reg, y_reg, test_size=0.2, random_state=42)"
   ]
  },
  {
   "cell_type": "code",
   "execution_count": 3,
   "metadata": {},
   "outputs": [],
   "source": [
    "svr = SVR(kernel='rbf', C=1.0, epsilon=0.1)"
   ]
  },
  {
   "cell_type": "markdown",
   "metadata": {},
   "source": [
    "# Explanation of `SVR(kernel='rbf', C=1.0, epsilon=0.1)`\n",
    "\n",
    "The `SVR` class in scikit-learn implements Support Vector Regression. Below is an explanation of the key arguments used in the method:\n",
    "\n",
    "### Arguments:\n",
    "\n",
    "1. **`kernel='rbf'`**\n",
    "   - Specifies the kernel type used in the algorithm.\n",
    "   - `'rbf'` stands for Radial Basis Function, a common choice for non-linear problems.\n",
    "   - Other kernel options include `'linear'`, `'poly'`, `'sigmoid'`, or `'precomputed'`.\n",
    "\n",
    "2. **`C=1.0`**\n",
    "   - Regularization parameter.\n",
    "   - Controls the trade-off between achieving a low error on the training set and minimizing the model's complexity.\n",
    "   - A smaller value (e.g., 0.1) encourages a simpler model with more margin violations, while a larger value (e.g., 10) tries to fit the training data more closely.\n",
    "\n",
    "3. **`epsilon=0.1`**\n",
    "   - Specifies a margin of tolerance where predictions do not incur a penalty.\n",
    "   - If the predicted value is within `epsilon` of the true value, no penalty is applied in the loss function.\n",
    "   - A smaller `epsilon` makes the model more sensitive to the data, while a larger `epsilon` allows for more slack.\n",
    "\n",
    "### Default Values:\n",
    "- If not specified, the following defaults are used:\n",
    "  - `kernel='rbf'`\n",
    "  - `C=1.0`\n",
    "  - `epsilon=0.1`\n",
    "\n",
    "### Example Code:\n",
    "```python\n",
    "from sklearn.svm import SVR\n",
    "\n",
    "# Initialize SVR with specified kernel, regularization parameter, and epsilon\n",
    "svr = SVR(kernel='rbf', C=1.0, epsilon=0.1)\n",
    "\n",
    "# Fit the model to training data\n",
    "svr.fit(X_train, y_train)\n",
    "\n",
    "# Predict on new data\n",
    "y_pred = svr.predict(X_test)\n"
   ]
  },
  {
   "cell_type": "code",
   "execution_count": 4,
   "metadata": {},
   "outputs": [
    {
     "data": {
      "text/plain": [
       "SVR()"
      ]
     },
     "execution_count": 4,
     "metadata": {},
     "output_type": "execute_result"
    }
   ],
   "source": [
    "\n",
    "# Train the model\n",
    "svr.fit(X_reg_train, y_reg_train)"
   ]
  },
  {
   "cell_type": "code",
   "execution_count": 5,
   "metadata": {},
   "outputs": [
    {
     "data": {
      "text/plain": [
       "array([[ 0.34361829],\n",
       "       [-1.01283112],\n",
       "       [-0.60063869],\n",
       "       [ 1.52302986],\n",
       "       [ 0.76743473],\n",
       "       [ 0.09176078],\n",
       "       [ 0.36139561],\n",
       "       [-1.42474819],\n",
       "       [ 1.0035329 ],\n",
       "       [-1.47852199],\n",
       "       [ 1.53803657],\n",
       "       [-0.64511975],\n",
       "       [-0.11564828],\n",
       "       [-0.60170661],\n",
       "       [-0.50175704],\n",
       "       [ 0.64768854],\n",
       "       [-1.72491783],\n",
       "       [ 0.96864499],\n",
       "       [ 0.19686124],\n",
       "       [-1.95967012],\n",
       "       [ 0.2088636 ],\n",
       "       [-0.90802408],\n",
       "       [ 0.54256004],\n",
       "       [ 1.85227818],\n",
       "       [-0.03582604],\n",
       "       [-2.6197451 ],\n",
       "       [ 0.11092259],\n",
       "       [ 1.46564877],\n",
       "       [-1.10633497],\n",
       "       [-0.21967189],\n",
       "       [ 1.56464366],\n",
       "       [ 0.31424733],\n",
       "       [ 0.51326743],\n",
       "       [ 0.82254491],\n",
       "       [ 0.61167629],\n",
       "       [ 0.29612028],\n",
       "       [-0.46341769],\n",
       "       [-1.46351495],\n",
       "       [-0.29900735],\n",
       "       [-0.1382643 ],\n",
       "       [ 0.33126343],\n",
       "       [-0.30921238],\n",
       "       [-0.38508228],\n",
       "       [-0.51827022],\n",
       "       [-0.32766215],\n",
       "       [-1.91328024],\n",
       "       [-0.3011037 ],\n",
       "       [-0.56228753],\n",
       "       [-0.2257763 ],\n",
       "       [-0.71984421],\n",
       "       [-0.54438272],\n",
       "       [-0.676922  ],\n",
       "       [ 0.32875111],\n",
       "       [-0.07201012],\n",
       "       [-0.18565898],\n",
       "       [ 1.57921282],\n",
       "       [ 0.26105527],\n",
       "       [-0.46063877],\n",
       "       [-1.98756891],\n",
       "       [-0.70205309],\n",
       "       [ 1.05712223],\n",
       "       [ 0.36163603],\n",
       "       [-1.19620662],\n",
       "       [ 0.08704707],\n",
       "       [-0.23413696],\n",
       "       [ 0.09707755],\n",
       "       [-1.05771093],\n",
       "       [ 0.91540212],\n",
       "       [-0.01349722],\n",
       "       [ 1.35624003],\n",
       "       [-0.83921752],\n",
       "       [-0.46947439],\n",
       "       [ 0.17136828],\n",
       "       [ 0.49671415],\n",
       "       [ 0.32408397],\n",
       "       [-1.4123037 ],\n",
       "       [-0.8084936 ],\n",
       "       [ 0.0675282 ],\n",
       "       [ 0.00511346]])"
      ]
     },
     "execution_count": 5,
     "metadata": {},
     "output_type": "execute_result"
    }
   ],
   "source": [
    "svr.support_vectors_\n",
    "#A NumPy array of shape (n_support_vectors, n_features), where:"
   ]
  },
  {
   "cell_type": "code",
   "execution_count": 6,
   "metadata": {},
   "outputs": [
    {
     "data": {
      "text/plain": [
       "array([ 0,  1,  2,  3,  4,  5,  6,  7,  8,  9, 10, 11, 12, 13, 14, 15, 16,\n",
       "       17, 18, 19, 20, 21, 22, 23, 24, 25, 26, 27, 28, 29, 30, 31, 32, 33,\n",
       "       34, 35, 36, 37, 38, 39, 40, 41, 42, 43, 44, 45, 46, 47, 48, 49, 50,\n",
       "       51, 53, 54, 55, 56, 57, 58, 59, 60, 61, 62, 63, 64, 65, 66, 67, 68,\n",
       "       69, 70, 71, 72, 73, 74, 75, 76, 77, 78, 79])"
      ]
     },
     "execution_count": 6,
     "metadata": {},
     "output_type": "execute_result"
    }
   ],
   "source": [
    "svr.support_"
   ]
  },
  {
   "cell_type": "code",
   "execution_count": 7,
   "metadata": {},
   "outputs": [
    {
     "data": {
      "text/plain": [
       "array([[ 1.        , -1.        ,  1.        ,  1.        ,  1.        ,\n",
       "         1.        ,  1.        , -1.        ,  1.        , -1.        ,\n",
       "         1.        , -1.        ,  1.        , -1.        , -1.        ,\n",
       "         1.        , -1.        ,  1.        , -1.        , -1.        ,\n",
       "         1.        , -1.        , -1.        ,  1.        ,  1.        ,\n",
       "        -1.        ,  1.        ,  1.        , -1.        ,  1.        ,\n",
       "         1.        ,  1.        ,  1.        ,  1.        ,  1.        ,\n",
       "        -1.        , -1.        , -1.        , -1.        , -1.        ,\n",
       "         1.        , -1.        ,  1.        , -1.        ,  1.        ,\n",
       "        -1.        , -1.        , -1.        , -1.        , -1.        ,\n",
       "        -1.        , -1.        ,  1.        ,  1.        ,  1.        ,\n",
       "         1.        ,  1.        , -1.        , -1.        , -1.        ,\n",
       "         1.        ,  0.79093823, -1.        , -1.        , -1.        ,\n",
       "         1.        , -1.        ,  1.        , -1.        ,  1.        ,\n",
       "         0.20906177, -1.        , -1.        ,  1.        ,  1.        ,\n",
       "        -1.        , -1.        ,  1.        ,  1.        ]])"
      ]
     },
     "execution_count": 7,
     "metadata": {},
     "output_type": "execute_result"
    }
   ],
   "source": [
    "svr.dual_coef_"
   ]
  },
  {
   "cell_type": "code",
   "execution_count": 8,
   "metadata": {},
   "outputs": [
    {
     "data": {
      "text/plain": [
       "array([-5.76171729])"
      ]
     },
     "execution_count": 8,
     "metadata": {},
     "output_type": "execute_result"
    }
   ],
   "source": [
    "svr.intercept_"
   ]
  },
  {
   "cell_type": "code",
   "execution_count": 9,
   "metadata": {},
   "outputs": [
    {
     "data": {
      "text/plain": [
       "array([79])"
      ]
     },
     "execution_count": 9,
     "metadata": {},
     "output_type": "execute_result"
    }
   ],
   "source": [
    "svr.n_support_"
   ]
  },
  {
   "cell_type": "code",
   "execution_count": 10,
   "metadata": {},
   "outputs": [
    {
     "data": {
      "text/plain": [
       "array([[-1.32818605],\n",
       "       [ 1.47789404],\n",
       "       [ 0.81252582],\n",
       "       [-0.39210815],\n",
       "       [-0.23415337],\n",
       "       [-0.29169375],\n",
       "       [-0.46572975],\n",
       "       [-1.76304016],\n",
       "       [ 0.8219025 ],\n",
       "       [ 0.93128012],\n",
       "       [ 1.03099952],\n",
       "       [ 0.35711257],\n",
       "       [-1.22084365],\n",
       "       [-0.5297602 ],\n",
       "       [-1.15099358],\n",
       "       [-0.47917424],\n",
       "       [ 0.97554513],\n",
       "       [ 0.24196227],\n",
       "       [ 0.73846658],\n",
       "       [ 0.37569802]])"
      ]
     },
     "execution_count": 10,
     "metadata": {},
     "output_type": "execute_result"
    }
   ],
   "source": [
    "X_reg_test\n"
   ]
  },
  {
   "cell_type": "code",
   "execution_count": 11,
   "metadata": {},
   "outputs": [
    {
     "data": {
      "text/plain": [
       "array([-48.94907978,  89.03314517,  44.40919578,  -5.91131407,\n",
       "        -7.6244312 ,   1.74763946, -29.36593416, -68.32675437,\n",
       "        35.76573341,  50.77992943,  28.63464002,  20.28587171,\n",
       "       -42.22346311, -21.69297316, -56.06201681, -17.73837724,\n",
       "        52.89103498,  11.12324828,  36.18776792,  29.52220586])"
      ]
     },
     "execution_count": 11,
     "metadata": {},
     "output_type": "execute_result"
    }
   ],
   "source": [
    "y_reg_test"
   ]
  },
  {
   "cell_type": "code",
   "execution_count": 12,
   "metadata": {},
   "outputs": [],
   "source": [
    "y_reg_pred = svr.predict(X_reg_test)"
   ]
  },
  {
   "cell_type": "code",
   "execution_count": 13,
   "metadata": {},
   "outputs": [
    {
     "data": {
      "text/plain": [
       "array([-22.56045463,   7.81290455,  11.96339444, -13.46280283,\n",
       "        -8.84399828, -10.57946916, -15.41130407, -18.4531622 ,\n",
       "        11.97558557,  11.91821286,  11.57959708,   7.39676195,\n",
       "       -23.11553047, -16.96275859, -23.31424714, -15.74884435,\n",
       "        11.79878629,   4.92727774,  11.76351919,   7.74703324])"
      ]
     },
     "execution_count": 13,
     "metadata": {},
     "output_type": "execute_result"
    }
   ],
   "source": [
    "y_reg_pred"
   ]
  },
  {
   "cell_type": "code",
   "execution_count": 14,
   "metadata": {},
   "outputs": [
    {
     "name": "stdout",
     "output_type": "stream",
     "text": [
      "SVM Regression Mean Squared Error: 901.6564685036699\n"
     ]
    }
   ],
   "source": [
    "mse = mean_squared_error(y_reg_test, y_reg_pred)\n",
    "print(\"SVM Regression Mean Squared Error:\", mse)"
   ]
  },
  {
   "cell_type": "code",
   "execution_count": 15,
   "metadata": {},
   "outputs": [
    {
     "data": {
      "image/png": "[encoded data removed]",
      "text/plain": [
       "<Figure size 432x288 with 1 Axes>"
      ]
     },
     "metadata": {
      "needs_background": "light"
     },
     "output_type": "display_data"
    }
   ],
   "source": [
    "plt.scatter(X_reg, y_reg, color='blue', label='Actual data')\n",
    "plt.scatter(X_reg_test, y_reg_pred, color='red', label='Predicted data')\n",
    "plt.title(\"SVM Regression\")\n",
    "plt.xlabel(\"Feature\")\n",
    "plt.ylabel(\"Target\")\n",
    "plt.legend()\n",
    "plt.show()"
   ]
  },
  {
   "cell_type": "code",
   "execution_count": 18,
   "metadata": {},
   "outputs": [
    {
     "data": {
      "text/plain": [
       "SVC()"
      ]
     },
     "execution_count": 18,
     "metadata": {},
     "output_type": "execute_result"
    }
   ],
   "source": [
    "from sklearn.datasets import make_classification\n",
    "from sklearn.svm import SVC\n",
    "from sklearn.model_selection import train_test_split\n",
    "\n",
    "# Generate a sample classification dataset\n",
    "X_cls, y_cls = make_classification(\n",
    "    n_samples=100,\n",
    "    n_features=2,         # Total features\n",
    "    n_informative=2,      # Informative features\n",
    "    n_redundant=0,        # Redundant features\n",
    "    n_repeated=0,         # Repeated features\n",
    "    n_classes=2,          # Number of classes\n",
    "    random_state=42\n",
    ")\n",
    "\n",
    "# Split the data into training and testing sets\n",
    "X_cls_train, X_cls_test, y_cls_train, y_cls_test = train_test_split(X_cls, y_cls, test_size=0.2, random_state=42)\n",
    "\n",
    "# Initialize the SVC model\n",
    "svc = SVC(kernel='rbf', C=1.0)\n",
    "\n",
    "# Train the model\n",
    "svc.fit(X_cls_train, y_cls_train)\n",
    "\n",
    "\n"
   ]
  },
  {
   "cell_type": "code",
   "execution_count": 20,
   "metadata": {},
   "outputs": [
    {
     "data": {
      "text/plain": [
       "array([0, 1, 1, 0, 1, 0, 0, 0, 1, 0, 1, 0, 1, 0, 0, 1, 1, 1, 0, 0])"
      ]
     },
     "execution_count": 20,
     "metadata": {},
     "output_type": "execute_result"
    }
   ],
   "source": [
    "y_cls_test"
   ]
  },
  {
   "cell_type": "code",
   "execution_count": 19,
   "metadata": {},
   "outputs": [
    {
     "name": "stdout",
     "output_type": "stream",
     "text": [
      "Predicted labels: [0 1 1 0 1 0 0 0 1 0 1 0 1 0 0 1 1 1 0 0]\n"
     ]
    }
   ],
   "source": [
    "# Make predictions\n",
    "y_cls_pred = svc.predict(X_cls_test)\n",
    "\n",
    "# Print results\n",
    "print(\"Predicted labels:\", y_cls_pred)"
   ]
  },
  {
   "cell_type": "code",
   "execution_count": 21,
   "metadata": {},
   "outputs": [
    {
     "name": "stdout",
     "output_type": "stream",
     "text": [
      "SVM Classification Accuracy: 1.0\n"
     ]
    }
   ],
   "source": [
    "accuracy = accuracy_score(y_cls_test, y_cls_pred)\n",
    "print(\"SVM Classification Accuracy:\", accuracy)"
   ]
  },
  {
   "cell_type": "code",
   "execution_count": 22,
   "metadata": {},
   "outputs": [
    {
     "data": {
      "image/png": "[encoded data removed]",
      "text/plain": [
       "<Figure size 432x288 with 1 Axes>"
      ]
     },
     "metadata": {
      "needs_background": "light"
     },
     "output_type": "display_data"
    }
   ],
   "source": [
    "plt.scatter(X_cls[:, 0], X_cls[:, 1], c=y_cls, cmap='coolwarm', label='Actual data')\n",
    "plt.title(\"SVM Classification\")\n",
    "plt.xlabel(\"Feature 1\")\n",
    "plt.ylabel(\"Feature 2\")\n",
    "plt.legend()\n",
    "plt.show()\n"
   ]
  }
 ],
 "metadata": {
  "kernelspec": {
   "display_name": "base",
   "language": "python",
   "name": "python3"
  },
  "language_info": {
   "codemirror_mode": {
    "name": "ipython",
    "version": 3
   },
   "file_extension": ".py",
   "mimetype": "text/x-python",
   "name": "python",
   "nbconvert_exporter": "python",
   "pygments_lexer": "ipython3",
   "version": "3.12.7"
  }
 },
 "nbformat": 4,
 "nbformat_minor": 2
}
