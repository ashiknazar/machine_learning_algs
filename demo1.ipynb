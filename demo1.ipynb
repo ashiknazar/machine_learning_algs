{
 "cells": [
  {
   "cell_type": "markdown",
   "id": "eee8c5ef",
   "metadata": {},
   "source": [
    "# d ommm"
   ]
  },
  {
   "cell_type": "markdown",
   "id": "05998552",
   "metadata": {},
   "source": []
  }
 ],
 "metadata": {
  "language_info": {
   "name": "python"
  }
 },
 "nbformat": 4,
 "nbformat_minor": 5
}
