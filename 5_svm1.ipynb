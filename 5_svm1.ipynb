{
 "cells": [
  {
   "cell_type": "markdown",
   "id": "16c58231",
   "metadata": {},
   "source": [
    "### Step 1. The problem\n",
    "- We have 2 points:"
   ]
  },
  {
   "cell_type": "markdown",
   "id": "8607a843",
   "metadata": {},
   "source": [
    "```bash\n",
    "x1 = (0, 0), label y1 = +1\n",
    "x2 = (2, 0), label y2 = -1\n",
    "```"
   ]
  },
  {
   "cell_type": "markdown",
   "id": "c93a1cd2",
   "metadata": {},
   "source": [
    "- We want a line (or boundary) that separates +1 and -1 as widely as possible.\n",
    "\n",
    "- Since they’re 2 apart on the x-axis, clearly the best line is halfway between them — at x = 1."
   ]
  },
  {
   "cell_type": "markdown",
   "id": "07dd46f7",
   "metadata": {},
   "source": [
    "___"
   ]
  },
  {
   "cell_type": "markdown",
   "id": "f9bb3b1a",
   "metadata": {},
   "source": [
    "### Step 2. Equation of separating line"
   ]
  },
  {
   "cell_type": "markdown",
   "id": "ce1b6e07",
   "metadata": {},
   "source": [
    "- For a line in 2D:\n",
    "   - $w_1​x_1​+w_2​x_2​+b=0$\n",
    "   - is the decision boundary."
   ]
  },
  {
   "cell_type": "markdown",
   "id": "1926b3a0",
   "metadata": {},
   "source": [
    "- SVM tries to find $w$ and $b$ such that:\n",
    "  - Points with $y=+1$ satisfy $w^T.x+b≥1$\n",
    "  - Points with $y=−1$ satisfy $w^Tx+b≤−1$\n",
    "  - and the margin (distance between the two boundary lines) is maximized."
   ]
  },
  {
   "cell_type": "markdown",
   "id": "827a3c50",
   "metadata": {},
   "source": [
    "### Step 3. Let’s guess the direction"
   ]
  },
  {
   "cell_type": "markdown",
   "id": "00992183",
   "metadata": {},
   "source": [
    "- Our data lies on the x-axis only → the line separating them should be vertical (depends only on x₁ coordinate).\n",
    "- So we can ignore $x_2$, and let \n",
    "$w=[w_1,0].$\n",
    "- The boundary is $w_1.x_1+b=0.$"
   ]
  },
  {
   "cell_type": "markdown",
   "id": "48bdd3ab",
   "metadata": {},
   "source": [
    "###  Step 4. Write down the two margin conditions"
   ]
  },
  {
   "cell_type": "markdown",
   "id": "b9f22f1e",
   "metadata": {},
   "source": [
    "- For the positive point (0,0):\n",
    "   - $w_1​(0)+b=+1⇒b=1$"
   ]
  },
  {
   "cell_type": "markdown",
   "id": "fcdc17ff",
   "metadata": {},
   "source": [
    "- For the negative point (2,0):\n",
    "   - $w_1​(2)+b=−1$"
   ]
  },
  {
   "cell_type": "markdown",
   "id": "0d4d5b19",
   "metadata": {},
   "source": [
    "- Substitute $b=1:$\n",
    "  - $2w_1​+1=−1⇒2w_1​=−2⇒w_1​=−1$"
   ]
  },
  {
   "cell_type": "markdown",
   "id": "253faca0",
   "metadata": {},
   "source": [
    "$$w=[−1,0],b=1$$"
   ]
  },
  {
   "cell_type": "markdown",
   "id": "bb76a2d2",
   "metadata": {},
   "source": [
    "### Step 5. Our separating function"
   ]
  },
  {
   "cell_type": "markdown",
   "id": "9e058572",
   "metadata": {},
   "source": [
    "$$f(x)=w^Tx+b=−x_1​+1$$"
   ]
  },
  {
   "cell_type": "markdown",
   "id": "8d584696",
   "metadata": {},
   "source": [
    "Decision rule:\n",
    "\n",
    "-  if $f(x)>0 → predict +1$\n",
    "-  if $f(x)<0 → predict -1$"
   ]
  },
  {
   "cell_type": "markdown",
   "id": "b9c4579a",
   "metadata": {},
   "source": []
  }
 ],
 "metadata": {
  "language_info": {
   "name": "python"
  }
 },
 "nbformat": 4,
 "nbformat_minor": 5
}
