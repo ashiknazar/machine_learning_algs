{
 "cells": [
  {
   "cell_type": "markdown",
   "id": "239cde3a",
   "metadata": {},
   "source": [
    "# demo"
   ]
  },
  {
   "cell_type": "markdown",
   "id": "97f3794d",
   "metadata": {},
   "source": []
  }
 ],
 "metadata": {
  "language_info": {
   "name": "python"
  }
 },
 "nbformat": 4,
 "nbformat_minor": 5
}
