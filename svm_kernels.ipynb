{
 "cells": [
  {
   "cell_type": "markdown",
   "id": "88d988b6",
   "metadata": {},
   "source": [
    "### 2. Idea of Kernel Trick\n",
    "\n",
    "- Instead of trying to separate data in the current space,\n",
    "we map it to a higher-dimensional space where separation becomes easier."
   ]
  },
  {
   "cell_type": "markdown",
   "id": "2f7e4af7",
   "metadata": {},
   "source": [
    "___"
   ]
  },
  {
   "cell_type": "markdown",
   "id": "e3774f7b",
   "metadata": {},
   "source": [
    "- Suppose our data lies in 2D: (x1, x2)\n",
    "- We can map it to 3D:\n",
    "```bash\n",
    "φ(x1, x2) = (x1², x2², √2·x1x2)\n",
    "```"
   ]
  },
  {
   "cell_type": "markdown",
   "id": "575b0043",
   "metadata": {},
   "source": [
    "- 👉 Kernel Trick avoids explicitly computing the mapping.\n",
    "It computes the dot product in higher-dimensional space directly using a kernel function."
   ]
  },
  {
   "cell_type": "markdown",
   "id": "5bf75a6d",
   "metadata": {},
   "source": [
    "### 3. What Is a Kernel Function?"
   ]
  },
  {
   "cell_type": "markdown",
   "id": "f0b5f5d2",
   "metadata": {},
   "source": [
    "A kernel function measures similarity between two samples:\n",
    "$K(x_i,x_j)=ϕ(x_i)⋅ϕ(x_j)$"
   ]
  },
  {
   "cell_type": "markdown",
   "id": "1d2810ea",
   "metadata": {},
   "source": [
    "#### (1) Linear Kernel\n",
    "$K(x_i,x_j)=x_i^⊤.x_j$\n",
    "\t​\n",
    "- No mapping — stays in original space.\n",
    "- Works well when data is linearly separable or has many features.\n",
    "- Fast and interpretable.\n",
    "- Fails for non-linear boundaries."
   ]
  },
  {
   "cell_type": "markdown",
   "id": "bb145f37",
   "metadata": {},
   "source": [
    "#### (2) Polynomial Kernel\n",
    "$K(x_i,x_j)=(x_i^⊤.x_j+c)^d$\n",
    "\n",
    "- Maps data to higher-dimensional polynomial space.\n",
    "- Degree d controls complexity.\n",
    "-  Captures curved relationships.\n",
    "- Higher d → overfitting."
   ]
  },
  {
   "cell_type": "markdown",
   "id": "97b090b6",
   "metadata": {},
   "source": [
    "🟩 (3) Radial Basis Function (RBF) or Gaussian Kernel\n",
    "$K(x_i,x_j)=exp(−γ∥x_i−x_j∥^2)$\n",
    "\n",
    "- Measures how close two points are.\n",
    "\n",
    "- $γ$ (gamma) controls how far the influence of a single training example reaches.\n",
    "\n",
    "- Very powerful — works for complex boundaries.\n",
    "- Needs tuning of C and γ."
   ]
  },
  {
   "cell_type": "markdown",
   "id": "01f50d63",
   "metadata": {},
   "source": []
  }
 ],
 "metadata": {
  "language_info": {
   "name": "python"
  }
 },
 "nbformat": 4,
 "nbformat_minor": 5
}
