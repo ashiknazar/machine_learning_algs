{
 "cells": [
  {
   "cell_type": "markdown",
   "metadata": {},
   "source": [
    "![](images/associ.png)"
   ]
  },
  {
   "cell_type": "markdown",
   "metadata": {},
   "source": [
    "- support level = 33%\n",
    "- confidence level= 50%\n"
   ]
  },
  {
   "cell_type": "markdown",
   "metadata": {},
   "source": [
    "- $Rule: X => Y$ \n",
    " - $support =freq(X,Y)/N $\n",
    " - $Confidence = freq(X,Y)/freq(X) $"
   ]
  },
  {
   "cell_type": "markdown",
   "metadata": {},
   "source": [
    "## Apriori Algorithm: Association Rule and Support\n",
    "\n",
    "### Rule $ X \\Rightarrow Y $ in Apriori Algorithm\n",
    "\n",
    "In the **Apriori algorithm**, the rule $ X \\Rightarrow Y $ represents an **association rule** where:\n",
    "\n",
    "- **$ X $** is the **antecedent** (left-hand side), which is a set of items or attributes.\n",
    "- **$ Y $** is the **consequent** (right-hand side), which is another set of items or attributes.\n",
    "\n",
    "This rule means that **if the items in $ X $ are present in a transaction, then the items in $ Y $ are likely to also be present** in the same transaction. The goal of the Apriori algorithm is to find such association rules in a dataset of transactions.\n",
    "\n",
    "### Example:\n",
    "If $ X = \\{ \\text{Bread} \\} $ and $ Y = \\{ \\text{Butter} \\} $, the rule $ \\{ \\text{Bread} \\} \\Rightarrow \\{ \\text{Butter} \\} $ means:\n",
    "\n",
    "- If a customer buys bread (antecedent), then they are likely to buy butter as well (consequent).\n",
    "\n",
    "### Key Metrics Used in Apriori:\n",
    "- **Support**: The proportion of transactions in the dataset that contain both $ X $ and $ Y $. It shows how frequently the itemset appears in the dataset.\n",
    "- **Confidence**: The probability that a transaction containing $ X $ also contains $ Y $. It measures the strength of the rule.\n",
    "- **Lift**: The increase in the likelihood of $ Y $ occurring when $ X $ is present, compared to when $ Y $ occurs without $ X $. A lift greater than 1 indicates a positive association.\n",
    "\n",
    "The Apriori algorithm uses these metrics to generate rules that are statistically significant.\n",
    "\n",
    "---\n",
    "\n",
    "### Support Definition\n",
    "\n",
    "In the context of the **Apriori algorithm** and **association rule mining**, **support** is a measure of how frequently a particular itemset (a set of items) appears in the dataset. It helps to identify the significance of the itemset in the context of all transactions.\n",
    "\n",
    "#### **Definition of Support:**\n",
    "\n",
    "The support of an itemset $ X $ is defined as the proportion of transactions in the dataset that contain $ X $. \n",
    "\n",
    "Mathematically, it is calculated as:\n",
    "\n",
    "$ \n",
    "\\text{Support}(X) = \\frac{\\text{Number of transactions that contain } X}{\\text{Total number of transactions}} \n",
    "$\n",
    "\n",
    "#### **Example:**\n",
    "Suppose we have a dataset of 100 transactions, and itemset $ X = \\{ \\text{Bread} \\} $ appears in 30 of those transactions. The support of the itemset $ \\{ \\text{Bread} \\} $ would be:\n",
    "\n",
    "$ \n",
    "\\text{Support}(\\{ \\text{Bread} \\}) = \\frac{30}{100} = 0.30 \n",
    "$\n",
    "\n",
    "This means that 30% of the transactions contain \"Bread\".\n",
    "\n",
    "#### **Support for an Association Rule:**\n",
    "For an association rule $ X \\Rightarrow Y $, the **support** is the proportion of transactions that contain both $ X $ and $ Y $. In this case, it is calculated as:\n",
    "\n",
    "$ \n",
    "\\text{Support}(X \\Rightarrow Y) = \\frac{\\text{Number of transactions that contain both } X \\text{ and } Y}{\\text{Total number of transactions}} \n",
    "$\n",
    "\n",
    "This gives a sense of how common or frequent the rule is in the entire dataset. High support means the rule applies to a large portion of the transactions.\n"
   ]
  },
  {
   "cell_type": "markdown",
   "metadata": {},
   "source": [
    "___"
   ]
  },
  {
   "cell_type": "markdown",
   "metadata": {},
   "source": [
    "## Confidence in Association Rule Mining\n",
    "\n",
    "In association rule mining, **confidence** is a metric that measures the strength of an association rule. It represents the probability that the consequent \\( Y \\) occurs given that the antecedent \\( X \\) has occurred. In other words, it quantifies how likely \\( Y \\) is to appear in transactions where \\( X \\) is present.\n",
    "\n",
    "### **Definition of Confidence:**\n",
    "\n",
    "The **confidence** of an association rule \\( X \\Rightarrow Y \\) is defined as the conditional probability that \\( Y \\) occurs given \\( X \\). Mathematically, it is calculated as:\n",
    "\n",
    "$$\n",
    "\\text{Confidence}(X \\Rightarrow Y) = P(Y | X) = \\frac{P(X \\cap Y)}{P(X)}\n",
    "$$\n",
    "\n",
    "Where:\n",
    "- \\( P(X \\cap Y) \\) is the **joint probability** (or support) of both \\( X \\) and \\( Y \\) occurring together.\n",
    "- \\( P(X) \\) is the **probability** (or support) of \\( X \\) occurring.\n",
    "\n",
    "### **Interpretation of Confidence:**\n",
    "- **Confidence = 1**: This means that whenever \\( X \\) occurs, \\( Y \\) always occurs as well. There is a perfect association between \\( X \\) and \\( Y \\).\n",
    "- **Confidence < 1**: This means that \\( Y \\) does not always occur when \\( X \\) occurs. The rule is not perfect.\n",
    "- **Confidence = 0**: This means that \\( Y \\) never occurs when \\( X \\) occurs.\n",
    "\n",
    "### **Example:**\n",
    "\n",
    "If the rule is \\( \\{ \\text{Bread} \\} \\Rightarrow \\{ \\text{Butter} \\} \\), and:\n",
    "\n",
    "- The **support** of \\( \\{ \\text{Bread} \\} \\) is \\( P(X) = 0.30 \\) (30% of transactions contain \"Bread\").\n",
    "- The **support** of \\( \\{ \\text{Bread, Butter} \\} \\) is \\( P(X \\cap Y) = 0.15 \\) (15% of transactions contain both \"Bread\" and \"Butter\").\n",
    "\n",
    "The **confidence** of the rule \\( \\{ \\text{Bread} \\} \\Rightarrow \\{ \\text{Butter} \\} \\) is:\n",
    "\n",
    "$$\n",
    "\\text{Confidence}(\\{ \\text{Bread} \\} \\Rightarrow \\{ \\text{Butter} \\}) = \\frac{P(\\{ \\text{Bread, Butter} \\})}{P(\\{ \\text{Bread} \\})} = \\frac{0.15}{0.30} = 0.50\n",
    "$$\n",
    "\n",
    "This means that, given that a customer buys \"Bread\", there is a 50% chance that they will also buy \"Butter\".\n"
   ]
  },
  {
   "cell_type": "markdown",
   "metadata": {},
   "source": [
    "____\n"
   ]
  },
  {
   "cell_type": "markdown",
   "metadata": {},
   "source": [
    "## Lift in Association Rule Mining\n",
    "\n",
    "In association rule mining, **Lift** is a metric that measures the strength of a rule by comparing the **observed** co-occurrence of items \\( X \\) and \\( Y \\) with the **expected** co-occurrence of these items if they were **independent**. It is used to determine whether the occurrence of \\( X \\) increases the likelihood of \\( Y \\) occurring, compared to when they are independent of each other.\n",
    "\n",
    "<br>\n",
    "In association rule mining, Lift is a metric that measures the strength of a rule by comparing the probability of the consequent 𝑌 occurring, given that the antecedent 𝑋 has occurred, to the probability of the consequent Y occurring independently of the antecedent.\n",
    "\n",
    "### **Definition of Lift**:\n",
    "\n",
    "The **Lift** of an association rule \\( X \\Rightarrow Y \\) is calculated by comparing the **joint probability** of \\( X \\) and \\( Y \\) occurring together to the **expected probability** of \\( Y \\) occurring, assuming that \\( X \\) and \\( Y \\) are independent.\n",
    "\n",
    "Mathematically, the **Lift** is given by:\n",
    "\n",
    "$$\n",
    "\\text{Lift}(X \\Rightarrow Y) = \\frac{P(X \\cap Y)}{P(X) \\cdot P(Y)}\n",
    "$$\n",
    "\n",
    "Where:\n",
    "- \\( P(X \\cap Y) \\) is the **joint probability** (or **support**) of both \\( X \\) and \\( Y \\) occurring together.\n",
    "- \\( P(X) \\) is the **probability** (or **support**) of \\( X \\) occurring.\n",
    "- \\( P(Y) \\) is the **probability** (or **support**) of \\( Y \\) occurring.\n",
    "\n",
    "### **Interpretation of Lift**:\n",
    "- **Lift = 1**: If \\( X \\) and \\( Y \\) are independent, the occurrence of \\( X \\) does not affect the occurrence of \\( Y \\), so the Lift is 1. This means \\( P(X \\cap Y) = P(X) \\cdot P(Y) \\).\n",
    "- **Lift > 1**: If Lift is greater than 1, it indicates a **positive association** between \\( X \\) and \\( Y \\). The occurrence of \\( X \\) increases the probability of \\( Y \\) occurring. The higher the Lift, the stronger the association.\n",
    "- **Lift < 1**: If Lift is less than 1, it indicates a **negative association** between \\( X \\) and \\( Y \\). The occurrence of \\( X \\) decreases the probability of \\( Y \\) occurring.\n",
    "\n",
    "### **Example of Lift Calculation**:\n",
    "\n",
    "Consider the following scenario for the association rule \\( X = \\{\\text{Bread}\\} \\Rightarrow Y = \\{\\text{Butter}\\} \\):\n",
    "\n",
    "- The **support** of \\( X = \\{\\text{Bread}\\} \\) is \\( P(X) = 0.30 \\) (30% of the transactions contain \"Bread\").\n",
    "- The **support** of \\( Y = \\{\\text{Butter}\\} \\) is \\( P(Y) = 0.20 \\) (20% of the transactions contain \"Butter\").\n",
    "- The **support** of \\( X \\cap Y = \\{\\text{Bread, Butter}\\} \\) is \\( P(X \\cap Y) = 0.15 \\) (15% of the transactions contain both \"Bread\" and \"Butter\").\n",
    "\n",
    "Now, we can calculate the **Lift** of the rule \\( X \\Rightarrow Y \\) as:\n",
    "\n",
    "$$\n",
    "\\text{Lift}(X \\Rightarrow Y) = \\frac{P(X \\cap Y)}{P(X) \\cdot P(Y)} = \\frac{0.15}{0.30 \\cdot 0.20} = \\frac{0.15}{0.06} = 2.5\n",
    "$$\n",
    "\n",
    "This means that the rule \\( X = \\{\\text{Bread}\\} \\Rightarrow Y = \\{\\text{Butter}\\} \\) has a **positive association**. The occurrence of \"Bread\" increases the likelihood of buying \"Butter\" by a factor of 2.5 times compared to when \"Bread\" and \"Butter\" are independent.\n",
    "\n",
    "### **Key Insights from Lift**:\n",
    "- **Lift = 1**: No association (independent items).\n",
    "- **Lift > 1**: Positive association (the presence of \\( X \\) increases the likelihood of \\( Y \\) occurring).\n",
    "- **Lift < 1**: Negative association (the presence of \\( X \\) decreases the likelihood of \\( Y \\) occurring).\n",
    "\n",
    "### **Usefulness of Lift**:\n",
    "- **Lift** is a powerful metric because it takes into account the **overall frequencies** of \\( X \\) and \\( Y \\) in the dataset. It tells us whether the rule is **statistically significant** beyond what would be expected if the two items were independent.\n",
    "- A higher **Lift** indicates a stronger and more meaningful rule, which can be especially useful when identifying important relationships in large datasets.\n",
    "\n",
    "### **Conclusion**:\n",
    "\n",
    "Lift is an important measure in association rule mining, helping to understand the strength of the relationship between two items. It corrects for the frequency of individual items, providing a more accurate picture of how much one item influences the occurrence of another.\n"
   ]
  },
  {
   "cell_type": "markdown",
   "metadata": {},
   "source": []
  },
  {
   "cell_type": "markdown",
   "metadata": {},
   "source": []
  },
  {
   "cell_type": "markdown",
   "metadata": {},
   "source": []
  },
  {
   "cell_type": "markdown",
   "metadata": {},
   "source": [
    "#### 1- item set \n",
    "- milk - 9(freq)  | support =(9/12) | taken\n",
    "- bread - 10(freq)\n",
    "- butter- 10(freq)\n",
    "- Egg - 3(freq)\n",
    "- ketchup - 3(freq) | support = (3/12)=25% | not taken\n",
    "- cookies- 5(freq)\n"
   ]
  },
  {
   "cell_type": "markdown",
   "metadata": {},
   "source": [
    "___"
   ]
  },
  {
   "cell_type": "markdown",
   "metadata": {},
   "source": [
    "#### frequent 1 item set\n",
    "- milk\n",
    "- bread\n",
    "- butter\n",
    "- cookies"
   ]
  },
  {
   "cell_type": "markdown",
   "metadata": {},
   "source": [
    "___\n",
    "#### 2-item sets\n",
    "- milk,bread - 7\n",
    "- milk,butter - 7\n",
    "- milk, cookies - 3\n",
    "- bread,butter - 9\n",
    "- butter, cookies - 3\n",
    "- bread, cookies - 4\n",
    "___"
   ]
  },
  {
   "cell_type": "markdown",
   "metadata": {},
   "source": [
    "#### frequent 2 item sets\n",
    "- milk ,bread - 7\n",
    "- milk , butter - 7\n",
    "- break,butter - 9\n",
    "- bread, cookies - 4"
   ]
  },
  {
   "cell_type": "markdown",
   "metadata": {},
   "source": [
    "____"
   ]
  },
  {
   "cell_type": "markdown",
   "metadata": {},
   "source": [
    "![](images/3_item.png)"
   ]
  },
  {
   "cell_type": "markdown",
   "metadata": {},
   "source": []
  }
 ],
 "metadata": {
  "language_info": {
   "name": "python"
  }
 },
 "nbformat": 4,
 "nbformat_minor": 2
}
