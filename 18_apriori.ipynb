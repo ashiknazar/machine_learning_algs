{
 "cells": [
  {
   "cell_type": "markdown",
   "metadata": {},
   "source": [
    "![](images/associ.png)"
   ]
  },
  {
   "cell_type": "markdown",
   "metadata": {},
   "source": [
    "- support level = 33%\n",
    "- confidence level= 50%\n"
   ]
  },
  {
   "cell_type": "markdown",
   "metadata": {},
   "source": [
    "- $Rule: X => Y$ \n",
    " - $support =freq(X,Y)/N $\n",
    " - $Confidence = freq(X,Y)/freq(X) $"
   ]
  },
  {
   "cell_type": "markdown",
   "metadata": {},
   "source": [
    "___"
   ]
  },
  {
   "cell_type": "markdown",
   "metadata": {},
   "source": [
    "#### 1- item set \n",
    "- milk - 9(freq)  | support =(9/12) | taken\n",
    "- bread - 10(freq)\n",
    "- butter- 10(freq)\n",
    "- Egg - 3(freq)\n",
    "- ketchup - 3(freq) | support = (3/12)=25% | not taken\n",
    "- cookies- 5(freq)\n"
   ]
  },
  {
   "cell_type": "markdown",
   "metadata": {},
   "source": [
    "___"
   ]
  },
  {
   "cell_type": "markdown",
   "metadata": {},
   "source": [
    "#### frequent 1 item set\n",
    "- milk\n",
    "- bread\n",
    "- butter\n",
    "- cookies"
   ]
  },
  {
   "cell_type": "markdown",
   "metadata": {},
   "source": [
    "___\n",
    "#### 2-item sets\n",
    "- milk,bread - 7\n",
    "- milk,butter - 7\n",
    "- milk, cookies - 3\n",
    "- bread,butter - 9\n",
    "- butter, cookies - 3\n",
    "- bread, cookies - 4\n",
    "___"
   ]
  },
  {
   "cell_type": "markdown",
   "metadata": {},
   "source": [
    "#### frequent 2 item sets\n",
    "- milk ,bread - 7\n",
    "- milk , butter - 7\n",
    "- break,butter - 9\n",
    "- bread, cookies - 4"
   ]
  },
  {
   "cell_type": "markdown",
   "metadata": {},
   "source": [
    "____"
   ]
  },
  {
   "cell_type": "markdown",
   "metadata": {},
   "source": []
  }
 ],
 "metadata": {
  "language_info": {
   "name": "python"
  }
 },
 "nbformat": 4,
 "nbformat_minor": 2
}
