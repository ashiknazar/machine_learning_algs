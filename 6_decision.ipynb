{
 "cells": [
  {
   "cell_type": "markdown",
   "id": "790e6e9f-e614-4e55-aeea-f339a47df5d4",
   "metadata": {},
   "source": [
    "```python\n",
    "# Importing necessary libraries\n",
    "from sklearn.datasets import load_iris\n",
    "from sklearn.model_selection import train_test_split\n",
    "from sklearn.tree import DecisionTreeClassifier\n",
    "from sklearn.metrics import accuracy_score\n",
    "from sklearn.tree import export_text\n",
    "\n",
    "# Load the Iris dataset\n",
    "data = load_iris()\n",
    "X = data.data  # Features\n",
    "y = data.target  # Labels (target)\n",
    "\n",
    "# Split the dataset into training and testing sets (80% training, 20% testing)\n",
    "X_train, X_test, y_train, y_test = train_test_split(X, y, test_size=0.2, random_state=42)\n",
    "\n",
    "# Initialize the Decision Tree classifier\n",
    "clf = DecisionTreeClassifier(random_state=42)\n",
    "\n",
    "# Train the model\n",
    "clf.fit(X_train, y_train)\n",
    "\n",
    "# Make predictions on the test set\n",
    "y_pred = clf.predict(X_test)\n",
    "\n",
    "# Evaluate the accuracy of the model\n",
    "accuracy = accuracy_score(y_test, y_pred)\n",
    "print(f'Accuracy: {accuracy:.2f}')\n",
    "\n",
    "# Print the decision tree structure\n",
    "tree_rules = export_text(clf, feature_names=data.feature_names)\n",
    "print(\"\\nDecision Tree Rules:\")\n",
    "print(tree_rules)\n",
    "```"
   ]
  },
  {
   "cell_type": "markdown",
   "id": "59d10096-0e01-438c-8d4d-ccc2352466ad",
   "metadata": {},
   "source": [
    "Accuracy: 1.00\n",
    "\n",
    "Decision Tree Rules:\n",
    "|--- petal length (cm) <= 2.45\n",
    "|   |--- class: 0\n",
    "|--- petal length (cm) >  2.45\n",
    "|   |--- petal width (cm) <= 1.75\n",
    "|   |   |--- class: 1\n",
    "|   |--- petal width (cm) >  1.75\n",
    "|   |   |--- class: 2\n"
   ]
  }
 ],
 "metadata": {
  "kernelspec": {
   "display_name": "Python 3 (ipykernel)",
   "language": "python",
   "name": "python3"
  },
  "language_info": {
   "codemirror_mode": {
    "name": "ipython",
    "version": 3
   },
   "file_extension": ".py",
   "mimetype": "text/x-python",
   "name": "python",
   "nbconvert_exporter": "python",
   "pygments_lexer": "ipython3",
   "version": "3.12.7"
  }
 },
 "nbformat": 4,
 "nbformat_minor": 5
}
