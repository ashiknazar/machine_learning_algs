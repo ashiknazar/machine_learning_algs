{
 "cells": [
  {
   "cell_type": "markdown",
   "id": "c5d5d93e",
   "metadata": {},
   "source": [
    "## SARIMA \n",
    "- (**S**easonal **A**uto**R**egressive **I**ntegrated **M**oving **A**verage)"
   ]
  },
  {
   "cell_type": "markdown",
   "id": "fd4cf93d",
   "metadata": {},
   "source": [
    "- ARIMA is written as ARIMA(p, d, q):\n",
    "  - p: # of lag observations (AR)\n",
    "  - d: # of times to difference the data (I)\n",
    "  - q: # of lagged forecast errors (MA)"
   ]
  },
  {
   "cell_type": "markdown",
   "id": "469cd6ce",
   "metadata": {},
   "source": [
    "- SARIMA adds seasonality to ARIMA.\n",
    "- SARIMA(p, d, q) × (P, D, Q, s)\n",
    "- where the second part is for seasonal components:\n",
    "  - P: seasonal autoregression order\n",
    "  - D: seasonal differencing order\n",
    "  - Q: seasonal moving average order\n",
    "  - s: length of the seasonal cycle (e.g. 12 for monthly data with yearly seasonality)\n",
    "\n"
   ]
  },
  {
   "cell_type": "markdown",
   "id": "38515795",
   "metadata": {},
   "source": [
    "| Component    | ARIMA                | SARIMA                                     |\n",
    "| ------------ | -------------------- | ------------------------------------------ |\n",
    "| Seasonality  | Not handled          | Handled via seasonal terms (P, D, Q, s)    |\n",
    "| Differencing | Basic (non-seasonal) | Both basic + seasonal differencing (lag s) |\n",
    "| Application  | Short-term patterns  | Long-term + seasonal patterns (e.g. sales) |\n"
   ]
  },
  {
   "cell_type": "markdown",
   "id": "970ec064",
   "metadata": {},
   "source": [
    "___\n",
    "___"
   ]
  },
  {
   "cell_type": "markdown",
   "id": "aa632c0e",
   "metadata": {},
   "source": [
    "- SARIMA(1,1,1)(1,1,1,12)."
   ]
  },
  {
   "cell_type": "markdown",
   "id": "ac36b8da",
   "metadata": {},
   "source": [
    "- 1.**Differencing**:\n"
   ]
  },
  {
   "cell_type": "markdown",
   "id": "96ca5805",
   "metadata": {},
   "source": [
    "- First-order differencing (```d=1```) → remove trend.\n",
    "- Seasonal differencing (```D=1```, ```s=12```) → remove yearly pattern"
   ]
  },
  {
   "cell_type": "markdown",
   "id": "a7546ec7",
   "metadata": {},
   "source": [
    "- 2.**Model Estimation:**"
   ]
  },
  {
   "cell_type": "markdown",
   "id": "eb0388b4",
   "metadata": {},
   "source": [
    "- Fit both AR and MA components:\n",
    "- ```AR(1)``` and ```Seasonal AR(1)``` – uses values from ```t-1``` and ``t-12``\n",
    "- ``MA(1)`` and ``Seasonal MA(1)`` – uses past errors from ``t-1`` and ``t-12``"
   ]
  },
  {
   "cell_type": "markdown",
   "id": "cf3b7a69",
   "metadata": {},
   "source": [
    "- 3.**Model Training**:\n",
    "Estimate coefficients (weights) for:\n",
    " - `phi`, `theta`, `Phi`, `Theta` based on minimizing error (often using MLE).\n",
    "\n",
    "- 4.**Prediction**:\n",
    "Use the learned coefficients to predict future values:\n",
    "- Based on past values and errors, both seasonal and recent.\n",
    "\n"
   ]
  },
  {
   "cell_type": "markdown",
   "id": "32eb5269",
   "metadata": {},
   "source": [
    "___"
   ]
  },
  {
   "cell_type": "markdown",
   "id": "36fb090d",
   "metadata": {},
   "source": [
    "- Month:     1     2      3     4     5     6     7   8     9     10    11    12\n",
    "- Sales Y1:10  12  13  15  20  22  24  23  22  18  16  14\n",
    "- Sales Y2:11  13  14  16  21  23  25  24  23  19  17  15\n"
   ]
  },
  {
   "cell_type": "markdown",
   "id": "506405f9",
   "metadata": {},
   "source": [
    "- Let’s say we have monthly sales data for 2 years (24 months), with a seasonality of 12 months."
   ]
  },
  {
   "cell_type": "markdown",
   "id": "b4d9cd92",
   "metadata": {},
   "source": [
    "- You can already see a repeating seasonal pattern (e.g., highest sales around July).\n",
    "___"
   ]
  },
  {
   "cell_type": "markdown",
   "id": "88c9b7a3",
   "metadata": {},
   "source": [
    "- SARIMA(1, 1, 0)(1, 1, 0, 12)"
   ]
  },
  {
   "cell_type": "markdown",
   "id": "2aedfbf6",
   "metadata": {},
   "source": [
    "- (1 AR, 1 diff, no MA; 1 seasonal AR, 1 seasonal diff, no seasonal MA, seasonal period = 12)"
   ]
  },
  {
   "cell_type": "markdown",
   "id": "da778063",
   "metadata": {},
   "source": [
    "___"
   ]
  },
  {
   "cell_type": "markdown",
   "id": "1c545403",
   "metadata": {},
   "source": [
    "#### ✅ Step 1: Differencing"
   ]
  },
  {
   "cell_type": "markdown",
   "id": "bcdacfcb",
   "metadata": {},
   "source": [
    "- Non-seasonal differencing (d = 1):\n",
    "$y^{'}_{t}=y_t-y_{t-1}$\n",
    "- Seasonal differencing (D = 1, s = 12): \n",
    "$y^{''}_{t}=y^{'}_t-y^{'}_{t-12}$\n",
    "\n",
    "\n",
    "​\n"
   ]
  },
  {
   "cell_type": "markdown",
   "id": "b274de9b",
   "metadata": {},
   "source": [
    "- Let’s calculate the non-seasonal differencing first (d=1):\n",
    "- From Month 2 onward:"
   ]
  },
  {
   "cell_type": "raw",
   "id": "f655a697",
   "metadata": {},
   "source": [
    "Month  Sales  y' = y_t - y_{t-1}\n",
    "2      12     12 - 10 = 2\n",
    "3      13     13 - 12 = 1\n",
    "4      15     15 - 13 = 2\n",
    "...\n",
    "13     11     11 - 14 = -3\n",
    "14     13     13 - 11 = 2\n"
   ]
  },
  {
   "cell_type": "markdown",
   "id": "43dedf2d",
   "metadata": {},
   "source": [
    "- Let’s take 13th month (second Jan), apply seasonal differencing (s=12):\n",
    "\n",
    "- y'' (Month 13) = y'(13) - y'(1)\n",
    "- = -3 - (N/A since month 1 has no previous data)\n"
   ]
  },
  {
   "cell_type": "markdown",
   "id": "b741347e",
   "metadata": {},
   "source": [
    "- So we can only compute seasonal diff from month 13+ "
   ]
  },
  {
   "cell_type": "raw",
   "id": "94ec6d01",
   "metadata": {},
   "source": [
    "y'(13) = -3\n",
    "y'(1)  = N/A\n",
    "y'(13) - y'(1) => Cannot compute\n"
   ]
  },
  {
   "cell_type": "raw",
   "id": "fe0d27fb",
   "metadata": {},
   "source": [
    "y'(14) = 13 - 11 = 2\n",
    "y'(2)  = 12 - 10 = 2\n",
    "y''(14) = 2 - 2 = 0\n"
   ]
  },
  {
   "cell_type": "markdown",
   "id": "e228b457",
   "metadata": {},
   "source": [
    "### ✅ Step 2: Model Formula (SARIMA)"
   ]
  },
  {
   "cell_type": "markdown",
   "id": "75e431f8",
   "metadata": {},
   "source": []
  },
  {
   "cell_type": "markdown",
   "id": "8d85afd1",
   "metadata": {},
   "source": [
    "**Equation:**  \n",
    "$$\n",
    "y_{t}'' = \\phi_{1} y_{t-1}'' + \\Phi_{1} y_{t-s}'' + e_{t}\n",
    "$$\n",
    "\n",
    "**Where:**\n",
    "- $\\phi_1$ : AR(1) term (non-seasonal autoregressive)\n",
    "- $\\Phi_1$ : Seasonal AR(1) term\n",
    "- $y_{t-1}''$ : Differenced previous value\n",
    "- $y_{t-s}''$ : Seasonal differenced value (e.g., $s=12$ for yearly seasonality)\n",
    "- $e_t$ : White noise (error/residual)\n"
   ]
  },
  {
   "cell_type": "markdown",
   "id": "888fd24c",
   "metadata": {},
   "source": []
  },
  {
   "cell_type": "markdown",
   "id": "2705b1f7",
   "metadata": {},
   "source": [
    "### 🔄 Reconstructing Original Value from Differenced Forecast\n",
    "\n",
    "**Step 1: Add Seasonal Difference Back**\n",
    "\n",
    "We predicted the double-differenced value $y''(14)$, now we add back the seasonal difference:\n",
    "\n",
    "$$\n",
    "y'(14) = y''(14) + y'(2) = 0.1 + 2 = 2.1\n",
    "$$\n",
    "\n",
    "**Step 2: Add Non-Seasonal Difference Back**\n",
    "\n",
    "Now we add the non-seasonal difference to get the original forecasted value:\n",
    "\n",
    "$$\n",
    "y(14) = y'(14) + y(13) = 2.1 + 11 = 13.1\n",
    "$$\n",
    "\n",
    "✅ **So, the predicted sales for month 14 is 13.1**\n"
   ]
  },
  {
   "cell_type": "markdown",
   "id": "43c85c01",
   "metadata": {},
   "source": [
    "$Error=y_{actual}−y_{predicted}$\n",
    "​\n",
    " $=13−13.1=−0.1$"
   ]
  },
  {
   "cell_type": "markdown",
   "id": "5f99c054",
   "metadata": {},
   "source": []
  },
  {
   "cell_type": "markdown",
   "id": "ffe68dca",
   "metadata": {},
   "source": []
  },
  {
   "cell_type": "markdown",
   "id": "ff08dec4",
   "metadata": {},
   "source": []
  },
  {
   "cell_type": "markdown",
   "id": "b8e3200d",
   "metadata": {},
   "source": []
  },
  {
   "cell_type": "markdown",
   "id": "d8cc20cb",
   "metadata": {},
   "source": []
  },
  {
   "cell_type": "markdown",
   "id": "dc51de3d",
   "metadata": {},
   "source": [
    "## SARIMA Calculation Example (Step-by-Step)\n",
    "\n",
    "### Sample Time Series Data (Monthly)\n",
    "\n",
    "| Month | Value |\n",
    "|-------|-------|\n",
    "| Jan   | 110   |\n",
    "| Feb   | 120   |\n",
    "| Mar   | 130   |\n",
    "| Apr   | 125   |\n",
    "| May   | 140   |\n",
    "| Jun   | 135   |\n",
    "| Jul   | 150   |\n",
    "| Aug   | 160   |\n",
    "| Sep   | 170   |\n",
    "| Oct   | 165   |\n",
    "| Nov   | 180   |\n",
    "| Dec   | 175   |\n",
    "| Jan   | 190   |\n",
    "| Feb   | 200   |\n",
    "\n",
    "---\n",
    "\n",
    "### SARIMA(P, D, Q)(sP, sD, sQ, s)\n",
    "\n",
    "We’ll use the model: **SARIMA(1, 1, 0)(1, 1, 0, 12)**\n",
    "\n",
    "Where:\n",
    "- **P = 1**: seasonal autoregressive order\n",
    "- **D = 1**: order of non-seasonal differencing\n",
    "- **Q = 0**: non-seasonal MA order\n",
    "- **sP = 1**: seasonal AR order\n",
    "- **sD = 1**: seasonal differencing\n",
    "- **sQ = 0**: seasonal MA order\n",
    "- **s = 12**: seasonal period (monthly data)\n",
    "\n",
    "---\n",
    "\n",
    "### Step 1: First-order Differencing (D=1)\n",
    "Subtract previous value from current:\n",
    "\n",
    "- Feb: 120 - 110 = 10  \n",
    "- Mar: 130 - 120 = 10  \n",
    "- Apr: 125 - 130 = -5  \n",
    "- ...  \n",
    "- Feb (next year): 200 - 190 = 10\n",
    "\n",
    "---\n",
    "\n",
    "### Step 2: Seasonal Differencing (sD=1, s=12)\n",
    "Subtract value from same month in previous year:\n",
    "\n",
    "- Jan (2nd year): 190 - 110 = 80  \n",
    "- Feb (2nd year): 200 - 120 = 80\n",
    "\n",
    "---\n",
    "\n",
    "### Step 3: Seasonal AR(P=1, sP=1)\n",
    "We use past seasonal lag (12 months ago) of the differenced series as a predictor.\n",
    "\n",
    "For example, predicting Feb (2nd year):\n",
    "Let’s say after differencing, SAR(1) gives:\n",
    "\n"
   ]
  },
  {
   "cell_type": "markdown",
   "id": "f26d70df",
   "metadata": {},
   "source": []
  }
 ],
 "metadata": {
  "language_info": {
   "name": "python"
  }
 },
 "nbformat": 4,
 "nbformat_minor": 5
}
